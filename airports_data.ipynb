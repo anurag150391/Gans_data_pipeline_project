{
 "cells": [
  {
   "cell_type": "markdown",
   "metadata": {},
   "source": [
    "# API requests for weather information"
   ]
  },
  {
   "cell_type": "markdown",
   "metadata": {},
   "source": [
    "## 1. Importing libraries"
   ]
  },
  {
   "cell_type": "code",
   "execution_count": null,
   "metadata": {},
   "outputs": [],
   "source": [
    "import pandas as pd\n",
    "import requests\n",
    "import re\n",
    "import json\n",
    "from datetime import datetime, timedelta, date\n",
    "import sqlalchemy"
   ]
  },
  {
   "cell_type": "markdown",
   "metadata": {},
   "source": [
    "## 2. Defining the flights funciton"
   ]
  },
  {
   "cell_type": "code",
   "execution_count": null,
   "metadata": {},
   "outputs": [],
   "source": [
    "def tomorrows_flight_arrivals(icao_list):\n",
    "\n",
    "    today = datetime.now().date()\n",
    "    tomorrow = today + timedelta(days=1)\n",
    "\n",
    "    list_for_arrivals_df = []\n",
    "\n",
    "    for icao in icao_list:\n",
    "        times = [[\"00:00\",\"11:59\"],[\"12:00\",\"23:59\"]]\n",
    "\n",
    "        for time in times:\n",
    "            url = f\"https://aerodatabox.p.rapidapi.com/flights/airports/icao/{icao}/{tomorrow}T{time[0]}/{tomorrow}T{time[1]}\"\n",
    "\n",
    "            querystring = {\"direction\":\"Arrival\",\"withCancelled\":\"false\"}\n",
    "\n",
    "            headers = {\n",
    "                \"X-RapidAPI-Key\": \"0b7cffd425mshbf932b1b5f7e633p187a96jsna5aedb4ce276\",\n",
    "                \"X-RapidAPI-Host\": \"aerodatabox.p.rapidapi.com\"\n",
    "                }\n",
    "\n",
    "            response = requests.request(\"GET\", url, headers=headers, params=querystring)\n",
    "            flights_resp = response.json()\n",
    "\n",
    "            arrivals_df = pd.json_normalize(flights_resp[\"arrivals\"])[[\"number\", \"airline.name\", \"movement.scheduledTime.local\", \"movement.terminal\", \"movement.airport.name\", \"movement.airport.icao\"]]\n",
    "            arrivals_df = arrivals_df.rename(columns={\"number\": \"flight_number\", \"airline.name\": \"airline\", \"movement.scheduledTime.local\": \"arrival_time\", \"movement.terminal\": \"arrival_terminal\", \"movement.airport.name\": \"departure_city\", \"movement.airport.icao\": \"departure_airport_icao\"})\n",
    "            arrivals_df['arrival_airport_icao'] = icao\n",
    "            arrivals_df['data_retrieved_on'] = datetime.now().date()\n",
    "            arrivals_df = arrivals_df[[\"flight_number\", \"departure_airport_icao\", \"arrival_airport_icao\", \"arrival_time\"]]\n",
    "            arrivals_df[\"arrival_time\"] = arrivals_df[\"arrival_time\"].str[:-6]\n",
    "            list_for_arrivals_df.append(arrivals_df)\n",
    "\n",
    "    return pd.concat(list_for_arrivals_df, ignore_index=True)"
   ]
  },
  {
   "cell_type": "code",
   "execution_count": null,
   "metadata": {},
   "outputs": [],
   "source": [
    "icao_list = [\"EDDB\", \"EDDF\", \"EDDK\", \"EDDM\", \"EDDH\"]\n",
    "airports_sql_df = tomorrows_flight_arrivals(icao_list).loc[:, ['arrival_airport_icao']]\n",
    "airports_sql_df = airports_sql_df['arrival_airport_icao'].unique()\n",
    "unique_airports_sql_df = pd.DataFrame({'arrival_airport_icao': airports_sql_df})"
   ]
  },
  {
   "cell_type": "code",
   "execution_count": null,
   "metadata": {},
   "outputs": [],
   "source": [
    "unique_airports_sql_df"
   ]
  },
  {
   "cell_type": "markdown",
   "metadata": {},
   "source": [
    "## 3. Pushing data to MySQL"
   ]
  },
  {
   "cell_type": "code",
   "execution_count": null,
   "metadata": {},
   "outputs": [],
   "source": [
    "schema=\"gans\" \n",
    "host=\"wbs-project3-db.cunuvsto5hvy.us-east-1.rds.amazonaws.com\"\n",
    "user=\"admin\"\n",
    "password = \"***\"\n",
    "port=3306\n",
    "con = f'mysql+pymysql://{user}:{password}@{host}:{port}/{schema}'"
   ]
  },
  {
   "cell_type": "code",
   "execution_count": null,
   "metadata": {},
   "outputs": [],
   "source": [
    "unique_airports_sql_df.to_sql('airports',\n",
    "                       if_exists='append',\n",
    "                       con=con,\n",
    "                       index=False)"
   ]
  }
 ],
 "metadata": {
  "kernelspec": {
   "display_name": "DataScience_Bootcamp",
   "language": "python",
   "name": "python3"
  },
  "language_info": {
   "codemirror_mode": {
    "name": "ipython",
    "version": 3
   },
   "file_extension": ".py",
   "mimetype": "text/x-python",
   "name": "python",
   "nbconvert_exporter": "python",
   "pygments_lexer": "ipython3",
   "version": "3.11.5"
  }
 },
 "nbformat": 4,
 "nbformat_minor": 2
}
